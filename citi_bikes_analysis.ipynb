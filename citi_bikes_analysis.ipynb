{
 "cells": [
  {
   "cell_type": "code",
   "execution_count": 1,
   "id": "e9a48c00",
   "metadata": {},
   "outputs": [],
   "source": [
    "import pandas as pd\n",
    "import numpy as np\n",
    "import zipfile\n",
    "import os\n",
    "from math import radians\n",
    "\n",
    "import seaborn as sns\n",
    "\n",
    "from pathlib import Path\n",
    "from geopy.distance import geodesic\n",
    "\n",
    "import matplotlib.pyplot as plt\n",
    "from matplotlib.ticker import ScalarFormatter"
   ]
  },
  {
   "cell_type": "code",
   "execution_count": 2,
   "id": "62f74362",
   "metadata": {},
   "outputs": [
    {
     "name": "stderr",
     "output_type": "stream",
     "text": [
      "C:\\Users\\dkorzel\\AppData\\Local\\Temp\\ipykernel_2608\\2210469.py:25: DtypeWarning: Columns (5,7) have mixed types. Specify dtype option on import or set low_memory=False.\n",
      "  df = pd.read_csv(Path(data_directory, file))\n",
      "C:\\Users\\dkorzel\\AppData\\Local\\Temp\\ipykernel_2608\\2210469.py:25: DtypeWarning: Columns (5,7) have mixed types. Specify dtype option on import or set low_memory=False.\n",
      "  df = pd.read_csv(Path(data_directory, file))\n",
      "C:\\Users\\dkorzel\\AppData\\Local\\Temp\\ipykernel_2608\\2210469.py:25: DtypeWarning: Columns (5,7) have mixed types. Specify dtype option on import or set low_memory=False.\n",
      "  df = pd.read_csv(Path(data_directory, file))\n"
     ]
    }
   ],
   "source": [
    "current_directory = Path.cwd()\n",
    "\n",
    "data_directory = Path(current_directory, 'data')\n",
    "\n",
    "zip_file_path = Path(data_directory, '202403-citibike-tripdata.csv.zip')\n",
    "\n",
    "# Directory to extract the files\n",
    "data_directory = Path(current_directory, 'data')\n",
    "\n",
    "# List to hold DataFrames\n",
    "dfs = []\n",
    "\n",
    "# Open the zip file\n",
    "with zipfile.ZipFile(zip_file_path, 'r') as zip_ref:\n",
    "    zip_ref.extractall(data_directory)\n",
    "\n",
    "# List all files in the extracted directory\n",
    "extracted_files = os.listdir(data_directory)\n",
    "\n",
    "# Filter only CSV files\n",
    "csv_files = [file for file in extracted_files if file.endswith('.csv')]\n",
    "\n",
    "# Read each CSV file into a DataFrame and append to dfs list\n",
    "for file in csv_files:\n",
    "    df = pd.read_csv(Path(data_directory, file))\n",
    "    dfs.append(df)\n",
    "\n",
    "# Concatenate all DataFrames in the list\n",
    "biketrips = pd.concat(dfs, ignore_index=True)"
   ]
  },
  {
   "cell_type": "code",
   "execution_count": 3,
   "id": "2a5c6fd9",
   "metadata": {},
   "outputs": [
    {
     "name": "stdout",
     "output_type": "stream",
     "text": [
      "<class 'pandas.core.frame.DataFrame'>\n",
      "RangeIndex: 2737881 entries, 0 to 2737880\n",
      "Data columns (total 13 columns):\n",
      " #   Column              Dtype  \n",
      "---  ------              -----  \n",
      " 0   ride_id             object \n",
      " 1   rideable_type       object \n",
      " 2   started_at          object \n",
      " 3   ended_at            object \n",
      " 4   start_station_name  object \n",
      " 5   start_station_id    object \n",
      " 6   end_station_name    object \n",
      " 7   end_station_id      object \n",
      " 8   start_lat           float64\n",
      " 9   start_lng           float64\n",
      " 10  end_lat             float64\n",
      " 11  end_lng             float64\n",
      " 12  member_casual       object \n",
      "dtypes: float64(4), object(9)\n",
      "memory usage: 271.5+ MB\n"
     ]
    }
   ],
   "source": [
    "biketrips.info()"
   ]
  },
  {
   "cell_type": "code",
   "execution_count": 4,
   "id": "98ea7e27",
   "metadata": {},
   "outputs": [],
   "source": [
    "# Trips over 30 minutes\n",
    "\n",
    "# Convert start & end to datetime objects\n",
    "biketrips['started_at'] = pd.to_datetime(biketrips['started_at'])\n",
    "biketrips['ended_at'] = pd.to_datetime(biketrips['ended_at'])\n",
    "\n",
    "# Calculate the time difference in minutes\n",
    "biketrips['time_difference'] = round((biketrips['ended_at'] - biketrips['started_at']).dt.total_seconds() / 60, 2)\n",
    "\n",
    "# Create a flag\n",
    "biketrips['trips_over_30_min'] = biketrips['time_difference'] > 30"
   ]
  },
  {
   "cell_type": "code",
   "execution_count": 5,
   "id": "be5a9401",
   "metadata": {},
   "outputs": [
    {
     "name": "stdout",
     "output_type": "stream",
     "text": [
      "In March, 172188 bike trips would be covered by insurance.\n"
     ]
    }
   ],
   "source": [
    "trips_over_30_min = biketrips['trips_over_30_min'].sum()\n",
    "print(\"In March, \" + str(trips_over_30_min) + \" bike trips would be covered by insurance.\")"
   ]
  },
  {
   "cell_type": "code",
   "execution_count": 6,
   "id": "b707d9b4",
   "metadata": {},
   "outputs": [
    {
     "name": "stdout",
     "output_type": "stream",
     "text": [
      "By charging 0.2 USD per trip exceeding 30 min, we anticipate revenue of 34437.6 USD.\n"
     ]
    }
   ],
   "source": [
    "revenue = trips_over_30_min * 0.2\n",
    "print(\"By charging 0.2 USD per trip exceeding 30 min, we anticipate revenue of \" + str(revenue) + \" USD.\")"
   ]
  },
  {
   "cell_type": "code",
   "execution_count": 7,
   "id": "cd326a55",
   "metadata": {},
   "outputs": [
    {
     "name": "stdout",
     "output_type": "stream",
     "text": [
      "<class 'pandas.core.frame.DataFrame'>\n",
      "RangeIndex: 2737881 entries, 0 to 2737880\n",
      "Data columns (total 15 columns):\n",
      " #   Column              Dtype         \n",
      "---  ------              -----         \n",
      " 0   ride_id             object        \n",
      " 1   rideable_type       object        \n",
      " 2   started_at          datetime64[ns]\n",
      " 3   ended_at            datetime64[ns]\n",
      " 4   start_station_name  object        \n",
      " 5   start_station_id    object        \n",
      " 6   end_station_name    object        \n",
      " 7   end_station_id      object        \n",
      " 8   start_lat           float64       \n",
      " 9   start_lng           float64       \n",
      " 10  end_lat             float64       \n",
      " 11  end_lng             float64       \n",
      " 12  member_casual       object        \n",
      " 13  time_difference     float64       \n",
      " 14  trips_over_30_min   bool          \n",
      "dtypes: bool(1), datetime64[ns](2), float64(5), object(7)\n",
      "memory usage: 295.0+ MB\n"
     ]
    }
   ],
   "source": [
    "biketrips.info()"
   ]
  },
  {
   "cell_type": "code",
   "execution_count": 8,
   "id": "31e590e4",
   "metadata": {},
   "outputs": [
    {
     "data": {
      "text/html": [
       "<div>\n",
       "<style scoped>\n",
       "    .dataframe tbody tr th:only-of-type {\n",
       "        vertical-align: middle;\n",
       "    }\n",
       "\n",
       "    .dataframe tbody tr th {\n",
       "        vertical-align: top;\n",
       "    }\n",
       "\n",
       "    .dataframe thead th {\n",
       "        text-align: right;\n",
       "    }\n",
       "</style>\n",
       "<table border=\"1\" class=\"dataframe\">\n",
       "  <thead>\n",
       "    <tr style=\"text-align: right;\">\n",
       "      <th></th>\n",
       "      <th>ride_id</th>\n",
       "      <th>rideable_type</th>\n",
       "      <th>started_at</th>\n",
       "      <th>ended_at</th>\n",
       "      <th>start_station_name</th>\n",
       "      <th>start_station_id</th>\n",
       "      <th>end_station_name</th>\n",
       "      <th>end_station_id</th>\n",
       "      <th>start_lat</th>\n",
       "      <th>start_lng</th>\n",
       "      <th>end_lat</th>\n",
       "      <th>end_lng</th>\n",
       "      <th>member_casual</th>\n",
       "      <th>time_difference</th>\n",
       "      <th>trips_over_30_min</th>\n",
       "    </tr>\n",
       "  </thead>\n",
       "  <tbody>\n",
       "    <tr>\n",
       "      <th>0</th>\n",
       "      <td>0FC89A53DF9D7E90</td>\n",
       "      <td>electric_bike</td>\n",
       "      <td>2024-03-07 19:49:43</td>\n",
       "      <td>2024-03-07 20:20:33</td>\n",
       "      <td>48 St &amp; Skillman Ave</td>\n",
       "      <td>6283.05</td>\n",
       "      <td>Kingston Ave &amp; Park Pl</td>\n",
       "      <td>4016.03</td>\n",
       "      <td>40.746154</td>\n",
       "      <td>-73.916189</td>\n",
       "      <td>40.673080</td>\n",
       "      <td>-73.941910</td>\n",
       "      <td>member</td>\n",
       "      <td>30.83</td>\n",
       "      <td>True</td>\n",
       "    </tr>\n",
       "    <tr>\n",
       "      <th>1</th>\n",
       "      <td>0FF38F5D1277746B</td>\n",
       "      <td>electric_bike</td>\n",
       "      <td>2024-03-15 17:45:30</td>\n",
       "      <td>2024-03-15 17:55:39</td>\n",
       "      <td>Liberty St &amp; Broadway</td>\n",
       "      <td>5105.01</td>\n",
       "      <td>Mercer St &amp; Spring St</td>\n",
       "      <td>5532.01</td>\n",
       "      <td>40.708859</td>\n",
       "      <td>-74.010232</td>\n",
       "      <td>40.723627</td>\n",
       "      <td>-73.999496</td>\n",
       "      <td>member</td>\n",
       "      <td>10.15</td>\n",
       "      <td>False</td>\n",
       "    </tr>\n",
       "    <tr>\n",
       "      <th>2</th>\n",
       "      <td>DE040AD144FB0BFA</td>\n",
       "      <td>electric_bike</td>\n",
       "      <td>2024-03-19 18:00:52</td>\n",
       "      <td>2024-03-19 18:07:26</td>\n",
       "      <td>W 56 St &amp; 6 Ave</td>\n",
       "      <td>6809.07</td>\n",
       "      <td>E 43 St &amp; Madison Ave</td>\n",
       "      <td>6551.11</td>\n",
       "      <td>40.763406</td>\n",
       "      <td>-73.977225</td>\n",
       "      <td>40.753547</td>\n",
       "      <td>-73.978966</td>\n",
       "      <td>member</td>\n",
       "      <td>6.57</td>\n",
       "      <td>False</td>\n",
       "    </tr>\n",
       "    <tr>\n",
       "      <th>3</th>\n",
       "      <td>5C7DFD80B04BBA5A</td>\n",
       "      <td>electric_bike</td>\n",
       "      <td>2024-03-05 17:25:30</td>\n",
       "      <td>2024-03-05 17:30:17</td>\n",
       "      <td>W 56 St &amp; 6 Ave</td>\n",
       "      <td>6809.07</td>\n",
       "      <td>E 43 St &amp; Madison Ave</td>\n",
       "      <td>6551.11</td>\n",
       "      <td>40.763062</td>\n",
       "      <td>-73.977672</td>\n",
       "      <td>40.753547</td>\n",
       "      <td>-73.978966</td>\n",
       "      <td>member</td>\n",
       "      <td>4.78</td>\n",
       "      <td>False</td>\n",
       "    </tr>\n",
       "    <tr>\n",
       "      <th>4</th>\n",
       "      <td>5C0A03B95B0D0A0F</td>\n",
       "      <td>electric_bike</td>\n",
       "      <td>2024-03-22 13:18:37</td>\n",
       "      <td>2024-03-22 13:23:24</td>\n",
       "      <td>5 Ave &amp; W 126 St</td>\n",
       "      <td>7701.21</td>\n",
       "      <td>Frederick Douglass Blvd &amp; W 115 St</td>\n",
       "      <td>7658.13</td>\n",
       "      <td>40.660947</td>\n",
       "      <td>-73.983043</td>\n",
       "      <td>40.803865</td>\n",
       "      <td>-73.955931</td>\n",
       "      <td>member</td>\n",
       "      <td>4.78</td>\n",
       "      <td>False</td>\n",
       "    </tr>\n",
       "  </tbody>\n",
       "</table>\n",
       "</div>"
      ],
      "text/plain": [
       "            ride_id  rideable_type          started_at            ended_at   \n",
       "0  0FC89A53DF9D7E90  electric_bike 2024-03-07 19:49:43 2024-03-07 20:20:33  \\\n",
       "1  0FF38F5D1277746B  electric_bike 2024-03-15 17:45:30 2024-03-15 17:55:39   \n",
       "2  DE040AD144FB0BFA  electric_bike 2024-03-19 18:00:52 2024-03-19 18:07:26   \n",
       "3  5C7DFD80B04BBA5A  electric_bike 2024-03-05 17:25:30 2024-03-05 17:30:17   \n",
       "4  5C0A03B95B0D0A0F  electric_bike 2024-03-22 13:18:37 2024-03-22 13:23:24   \n",
       "\n",
       "      start_station_name start_station_id                    end_station_name   \n",
       "0   48 St & Skillman Ave          6283.05              Kingston Ave & Park Pl  \\\n",
       "1  Liberty St & Broadway          5105.01               Mercer St & Spring St   \n",
       "2        W 56 St & 6 Ave          6809.07               E 43 St & Madison Ave   \n",
       "3        W 56 St & 6 Ave          6809.07               E 43 St & Madison Ave   \n",
       "4       5 Ave & W 126 St          7701.21  Frederick Douglass Blvd & W 115 St   \n",
       "\n",
       "  end_station_id  start_lat  start_lng    end_lat    end_lng member_casual   \n",
       "0        4016.03  40.746154 -73.916189  40.673080 -73.941910        member  \\\n",
       "1        5532.01  40.708859 -74.010232  40.723627 -73.999496        member   \n",
       "2        6551.11  40.763406 -73.977225  40.753547 -73.978966        member   \n",
       "3        6551.11  40.763062 -73.977672  40.753547 -73.978966        member   \n",
       "4        7658.13  40.660947 -73.983043  40.803865 -73.955931        member   \n",
       "\n",
       "   time_difference  trips_over_30_min  \n",
       "0            30.83               True  \n",
       "1            10.15              False  \n",
       "2             6.57              False  \n",
       "3             4.78              False  \n",
       "4             4.78              False  "
      ]
     },
     "execution_count": 8,
     "metadata": {},
     "output_type": "execute_result"
    }
   ],
   "source": [
    "biketrips.head()"
   ]
  },
  {
   "cell_type": "code",
   "execution_count": 9,
   "id": "56445912",
   "metadata": {},
   "outputs": [],
   "source": [
    "def haversine(row):\n",
    "    \n",
    "    lng1, lat1, lng2, lat2 = map(radians, [row['start_lng'], row['start_lat'], row['end_lng'], row['end_lat']])\n",
    "    dlng = lng2 - lng1\n",
    "    dlat = lat2 - lat1\n",
    "    a = np.sin(dlat/2)**2 + np.cos(lat1) * np.cos(lat2) * np.sin(dlng/2)**2\n",
    "    c = 2 * np.arcsin(np.sqrt(a))\n",
    "    km = 6367 * c\n",
    "    return km\n",
    "\n",
    "biketrips['distance'] = biketrips.apply(lambda row: haversine(row), axis=1)"
   ]
  },
  {
   "cell_type": "code",
   "execution_count": 10,
   "id": "200dce41",
   "metadata": {},
   "outputs": [],
   "source": [
    "biketrips['trips_between_0_1'] = biketrips['distance'] <= 1\n",
    "biketrips['trips_between_2_4'] = (biketrips['distance'] > 2) & (biketrips['distance'] <= 4)\n",
    "biketrips['trips_between_4_9'] = (biketrips['distance'] > 4) & (biketrips['distance'] <= 9)\n",
    "biketrips['trips_over_10'] = biketrips['distance'] > 10"
   ]
  },
  {
   "cell_type": "code",
   "execution_count": 11,
   "id": "ec42fe5c",
   "metadata": {},
   "outputs": [],
   "source": [
    "sums = biketrips[['trips_between_0_1', 'trips_between_2_4', 'trips_between_4_9', 'trips_over_10']].sum()"
   ]
  },
  {
   "cell_type": "code",
   "execution_count": 12,
   "id": "a291beb6",
   "metadata": {},
   "outputs": [],
   "source": [
    "sums_df = pd.DataFrame(sums, columns=['Number of Trips'])\n",
    "\n",
    "# Reset index to make 'Distance Buckets' a regular column\n",
    "sums_df.reset_index(inplace=True)\n",
    "sums_df.rename(columns={'index': 'Distance Buckets'}, inplace=True)"
   ]
  },
  {
   "cell_type": "code",
   "execution_count": 13,
   "id": "d4319e81",
   "metadata": {},
   "outputs": [
    {
     "data": {
      "image/png": "[encoded data removed]",
      "text/plain": [
       "<Figure size 1000x600 with 1 Axes>"
      ]
     },
     "metadata": {},
     "output_type": "display_data"
    }
   ],
   "source": [
    "plt.figure(figsize=(10, 6))\n",
    "chart = sns.barplot(x='Distance Buckets', y='Number of Trips', hue= 'Distance Buckets', data=sums_df, palette='coolwarm')\n",
    "\n",
    "chart.yaxis.set_major_formatter(ScalarFormatter(useMathText=True))\n",
    "chart.ticklabel_format(style='plain', axis='y')\n",
    "\n",
    "plt.title('Number of Bike Trips by Distance Buckets')\n",
    "plt.xlabel('Distance Buckets')\n",
    "plt.ylabel('Number of Trips')\n",
    "plt.xticks(rotation=45)\n",
    "plt.grid(axis='y', linestyle='--', alpha=0.3)\n",
    "plt.tight_layout()\n",
    "plt.show()"
   ]
  },
  {
   "cell_type": "code",
   "execution_count": null,
   "id": "7b7757d8",
   "metadata": {},
   "outputs": [],
   "source": []
  }
 ],
 "metadata": {
  "kernelspec": {
   "display_name": "Python 3 (ipykernel)",
   "language": "python",
   "name": "python3"
  },
  "language_info": {
   "codemirror_mode": {
    "name": "ipython",
    "version": 3
   },
   "file_extension": ".py",
   "mimetype": "text/x-python",
   "name": "python",
   "nbconvert_exporter": "python",
   "pygments_lexer": "ipython3",
   "version": "3.11.3"
  }
 },
 "nbformat": 4,
 "nbformat_minor": 5
}
