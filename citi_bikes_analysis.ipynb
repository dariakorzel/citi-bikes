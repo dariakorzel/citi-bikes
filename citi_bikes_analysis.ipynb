{
 "cells": [
  {
   "cell_type": "code",
   "execution_count": null,
   "id": "e9a48c00",
   "metadata": {},
   "outputs": [],
   "source": [
    "import pandas as pd\n",
    "import numpy as np\n",
    "import zipfile\n",
    "import os\n",
    "from math import radians\n",
    "import seaborn as sns\n",
    "import pathlib\n",
    "from pathlib import Path\n",
    "import matplotlib.pyplot as plt\n",
    "from matplotlib.ticker import ScalarFormatter"
   ]
  },
  {
   "cell_type": "markdown",
   "id": "bfd0e453",
   "metadata": {},
   "source": [
    "### Create DataFrame"
   ]
  },
  {
   "cell_type": "code",
   "execution_count": null,
   "id": "62f74362",
   "metadata": {},
   "outputs": [],
   "source": [
    "current_directory = Path.cwd()\n",
    "\n",
    "data_directory = Path(current_directory, 'data')\n",
    "\n",
    "zip_file_path = Path(data_directory, '202403-citibike-tripdata.csv.zip')\n",
    "\n",
    "# Directory to extract the files\n",
    "data_directory = Path(current_directory, 'data')\n",
    "\n",
    "# List to hold DataFrames\n",
    "dfs = []\n",
    "\n",
    "# Open the zip file\n",
    "with zipfile.ZipFile(zip_file_path, 'r') as zip_ref:\n",
    "    zip_ref.extractall(data_directory)\n",
    "\n",
    "# List all files in the extracted directory\n",
    "extracted_files = os.listdir(data_directory)\n",
    "\n",
    "# Filter only CSV files\n",
    "csv_files = [file for file in extracted_files if file.endswith('.csv')]\n",
    "\n",
    "# Read each CSV file into a DataFrame and append to dfs list\n",
    "for file in csv_files:\n",
    "    df = pd.read_csv(Path(data_directory, file))\n",
    "    dfs.append(df)\n",
    "\n",
    "# Concatenate all DataFrames in the list\n",
    "biketrips = pd.concat(dfs, ignore_index=True)"
   ]
  },
  {
   "cell_type": "code",
   "execution_count": null,
   "id": "2a5c6fd9",
   "metadata": {},
   "outputs": [],
   "source": [
    "biketrips.info()"
   ]
  },
  {
   "cell_type": "markdown",
   "id": "8583f459",
   "metadata": {},
   "source": [
    "### Flag trips over 30 min"
   ]
  },
  {
   "cell_type": "code",
   "execution_count": null,
   "id": "98ea7e27",
   "metadata": {},
   "outputs": [],
   "source": [
    "# Convert start & end to datetime objects\n",
    "biketrips['started_at'] = pd.to_datetime(biketrips['started_at'])\n",
    "biketrips['ended_at'] = pd.to_datetime(biketrips['ended_at'])\n",
    "\n",
    "# Calculate the time difference in minutes\n",
    "biketrips['time_difference'] = round((biketrips['ended_at'] - biketrips['started_at']).dt.total_seconds() / 60, 2)\n",
    "\n",
    "# Create a flag\n",
    "biketrips['trips_over_30_min'] = biketrips['time_difference'] > 30"
   ]
  },
  {
   "cell_type": "markdown",
   "id": "231fe763",
   "metadata": {},
   "source": [
    "### Question 1: Number of trips covered by insurance"
   ]
  },
  {
   "cell_type": "code",
   "execution_count": null,
   "id": "be5a9401",
   "metadata": {},
   "outputs": [],
   "source": [
    "trips_over_30_min = biketrips['trips_over_30_min'].sum()\n",
    "print(\"In March, \" + str(trips_over_30_min) + \" bike trips would be covered by insurance.\")"
   ]
  },
  {
   "cell_type": "markdown",
   "id": "1ed2bfc5",
   "metadata": {},
   "source": [
    "### Question 2: Revenue"
   ]
  },
  {
   "cell_type": "code",
   "execution_count": null,
   "id": "b707d9b4",
   "metadata": {},
   "outputs": [],
   "source": [
    "revenue = trips_over_30_min * 0.2\n",
    "print(\"By charging 0.2 USD per trip exceeding 30 min, we anticipate revenue of \" + str(revenue) + \" USD.\")"
   ]
  },
  {
   "cell_type": "code",
   "execution_count": null,
   "id": "cd326a55",
   "metadata": {},
   "outputs": [],
   "source": [
    "biketrips.info()\n",
    "biketrips.head()"
   ]
  },
  {
   "cell_type": "markdown",
   "id": "16b47903",
   "metadata": {},
   "source": [
    "### Caluclate distances in km"
   ]
  },
  {
   "cell_type": "code",
   "execution_count": null,
   "id": "56445912",
   "metadata": {},
   "outputs": [],
   "source": [
    "def haversine(row):\n",
    "    lng1, lat1, lng2, lat2 = map(radians, [row['start_lng'], row['start_lat'], row['end_lng'], row['end_lat']])\n",
    "    dlng = lng2 - lng1\n",
    "    dlat = lat2 - lat1\n",
    "    a = np.sin(dlat/2)**2 + np.cos(lat1) * np.cos(lat2) * np.sin(dlng/2)**2\n",
    "    c = 2 * np.arcsin(np.sqrt(a))\n",
    "    km = 6367 * c\n",
    "    return km\n",
    "\n",
    "biketrips['distance'] = biketrips.apply(lambda row: haversine(row), axis=1)"
   ]
  },
  {
   "cell_type": "markdown",
   "id": "7af76586",
   "metadata": {},
   "source": [
    "### Flag distance buckets"
   ]
  },
  {
   "cell_type": "code",
   "execution_count": null,
   "id": "200dce41",
   "metadata": {},
   "outputs": [],
   "source": [
    "biketrips['trips_between_0_1'] = (biketrips['distance'] > 0) & (biketrips['distance'] <= 1)\n",
    "biketrips['trips_between_2_4'] = (biketrips['distance'] > 2) & (biketrips['distance'] <= 4)\n",
    "biketrips['trips_between_4_9'] = (biketrips['distance'] > 4) & (biketrips['distance'] <= 9)\n",
    "biketrips['trips_over_10'] = biketrips['distance'] > 10"
   ]
  },
  {
   "cell_type": "markdown",
   "id": "23a26ea9",
   "metadata": {},
   "source": [
    "### Create DataFrame Distance Buckets"
   ]
  },
  {
   "cell_type": "code",
   "execution_count": null,
   "id": "a291beb6",
   "metadata": {},
   "outputs": [],
   "source": [
    "sums = biketrips[['trips_between_0_1', 'trips_between_2_4', 'trips_between_4_9', 'trips_over_10']].sum()\n",
    "sums_df = pd.DataFrame(sums, columns=['Number of Trips'])\n",
    "\n",
    "# Reset index to make 'Distance Buckets' a regular column\n",
    "sums_df.reset_index(inplace=True)\n",
    "sums_df.rename(columns={'index': 'Distance Buckets'}, inplace=True)"
   ]
  },
  {
   "cell_type": "markdown",
   "id": "a44a8124",
   "metadata": {},
   "source": [
    "### Question 3: Plot barchart Distance Buckets"
   ]
  },
  {
   "cell_type": "code",
   "execution_count": null,
   "id": "d4319e81",
   "metadata": {},
   "outputs": [],
   "source": [
    "plt.figure(figsize=(10, 6))\n",
    "chart = sns.barplot(x='Distance Buckets', y='Number of Trips', hue= 'Distance Buckets', data=sums_df, palette='coolwarm')\n",
    "\n",
    "chart.yaxis.set_major_formatter(ScalarFormatter(useMathText=True))\n",
    "chart.ticklabel_format(style='plain', axis='y')\n",
    "\n",
    "plt.title('Number of Bike Trips by Distance Buckets')\n",
    "plt.xlabel('Distance Buckets')\n",
    "plt.ylabel('Number of Trips')\n",
    "plt.xticks(rotation=45)\n",
    "plt.grid(axis='y', linestyle='--', alpha=0.3)\n",
    "plt.tight_layout()\n",
    "plt.show()"
   ]
  },
  {
   "cell_type": "code",
   "execution_count": null,
   "id": "7b7757d8",
   "metadata": {},
   "outputs": [],
   "source": []
  }
 ],
 "metadata": {
  "kernelspec": {
   "display_name": "Python 3 (ipykernel)",
   "language": "python",
   "name": "python3"
  },
  "language_info": {
   "codemirror_mode": {
    "name": "ipython",
    "version": 3
   },
   "file_extension": ".py",
   "mimetype": "text/x-python",
   "name": "python",
   "nbconvert_exporter": "python",
   "pygments_lexer": "ipython3",
   "version": "3.11.3"
  }
 },
 "nbformat": 4,
 "nbformat_minor": 5
}
