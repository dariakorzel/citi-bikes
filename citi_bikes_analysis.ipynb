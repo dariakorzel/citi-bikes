{
 "cells": [
  {
   "cell_type": "code",
   "execution_count": 14,
   "id": "e9a48c00",
   "metadata": {},
   "outputs": [],
   "source": [
    "import pandas as pd\n",
    "import numpy as np\n",
    "import zipfile\n",
    "import os\n",
    "\n",
    "import matplotlib.pyplot as plt"
   ]
  },
  {
   "cell_type": "code",
   "execution_count": 15,
   "id": "62f74362",
   "metadata": {},
   "outputs": [
    {
     "name": "stderr",
     "output_type": "stream",
     "text": [
      "C:\\Users\\dkorzel\\AppData\\Local\\Temp\\ipykernel_28524\\544373115.py:22: DtypeWarning: Columns (5,7) have mixed types. Specify dtype option on import or set low_memory=False.\n",
      "  df = pd.read_csv(os.path.join(extracted_zip, file))\n",
      "C:\\Users\\dkorzel\\AppData\\Local\\Temp\\ipykernel_28524\\544373115.py:22: DtypeWarning: Columns (5,7) have mixed types. Specify dtype option on import or set low_memory=False.\n",
      "  df = pd.read_csv(os.path.join(extracted_zip, file))\n",
      "C:\\Users\\dkorzel\\AppData\\Local\\Temp\\ipykernel_28524\\544373115.py:22: DtypeWarning: Columns (5,7) have mixed types. Specify dtype option on import or set low_memory=False.\n",
      "  df = pd.read_csv(os.path.join(extracted_zip, file))\n"
     ]
    },
    {
     "name": "stdout",
     "output_type": "stream",
     "text": [
      "                  ride_id  rideable_type           started_at   \n",
      "0        0FC89A53DF9D7E90  electric_bike  2024-03-07 19:49:43  \\\n",
      "1        0FF38F5D1277746B  electric_bike  2024-03-15 17:45:30   \n",
      "2        DE040AD144FB0BFA  electric_bike  2024-03-19 18:00:52   \n",
      "3        5C7DFD80B04BBA5A  electric_bike  2024-03-05 17:25:30   \n",
      "4        5C0A03B95B0D0A0F  electric_bike  2024-03-22 13:18:37   \n",
      "...                   ...            ...                  ...   \n",
      "2737876  CD46D9B0A417E8F4   classic_bike  2024-03-19 12:23:34   \n",
      "2737877  D8147B2406799B92   classic_bike  2024-03-19 17:50:32   \n",
      "2737878  C4F134511E3FDE04   classic_bike  2024-03-12 09:17:35   \n",
      "2737879  5C08251CACFF523B  electric_bike  2024-03-04 08:36:07   \n",
      "2737880  6DE21424366E3AA1   classic_bike  2024-03-05 21:36:17   \n",
      "\n",
      "                    ended_at      start_station_name start_station_id   \n",
      "0        2024-03-07 20:20:33    48 St & Skillman Ave          6283.05  \\\n",
      "1        2024-03-15 17:55:39   Liberty St & Broadway          5105.01   \n",
      "2        2024-03-19 18:07:26         W 56 St & 6 Ave          6809.07   \n",
      "3        2024-03-05 17:30:17         W 56 St & 6 Ave          6809.07   \n",
      "4        2024-03-22 13:23:24        5 Ave & W 126 St          7701.21   \n",
      "...                      ...                     ...              ...   \n",
      "2737876  2024-03-19 12:29:24   Madison Ave & E 51 St          6659.09   \n",
      "2737877  2024-03-19 17:57:29   Madison Ave & E 51 St          6659.09   \n",
      "2737878  2024-03-12 09:27:14  West End Ave & W 94 St          7524.09   \n",
      "2737879  2024-03-04 08:47:09         E 75 St & 3 Ave          6991.12   \n",
      "2737880  2024-03-05 21:45:08           10 St & 4 Ave          3882.05   \n",
      "\n",
      "                           end_station_name end_station_id  start_lat   \n",
      "0                    Kingston Ave & Park Pl        4016.03  40.746154  \\\n",
      "1                     Mercer St & Spring St        5532.01  40.708859   \n",
      "2                     E 43 St & Madison Ave        6551.11  40.763406   \n",
      "3                     E 43 St & Madison Ave        6551.11  40.763062   \n",
      "4        Frederick Douglass Blvd & W 115 St        7658.13  40.660947   \n",
      "...                                     ...            ...        ...   \n",
      "2737876                  Broadway & W 56 St        6847.02  40.758630   \n",
      "2737877                  Broadway & W 56 St        6847.02  40.758630   \n",
      "2737878            W 120 St & Claremont Ave        7745.07  40.794165   \n",
      "2737879                     W 47 St & 6 Ave        6667.04  40.771128   \n",
      "2737880          S Portland Ave & Hanson Pl        4354.05  40.669674   \n",
      "\n",
      "         start_lng    end_lat    end_lng member_casual  \n",
      "0       -73.916189  40.673080 -73.941910        member  \n",
      "1       -74.010232  40.723627 -73.999496        member  \n",
      "2       -73.977225  40.753547 -73.978966        member  \n",
      "3       -73.977672  40.753547 -73.978966        member  \n",
      "4       -73.983043  40.803865 -73.955931        member  \n",
      "...            ...        ...        ...           ...  \n",
      "2737876 -73.975130  40.765265 -73.981923        member  \n",
      "2737877 -73.975130  40.765265 -73.981923        member  \n",
      "2737878 -73.974124  40.810949 -73.963400        member  \n",
      "2737879 -73.957581  40.758397 -73.982550        member  \n",
      "2737880 -73.988989  40.685396 -73.974315        member  \n",
      "\n",
      "[2737881 rows x 13 columns]\n"
     ]
    }
   ],
   "source": [
    "# Path to zip file\n",
    "bike_zip = 'C:/Users/dkorzel/OneDrive - Capgemini/Desktop/python/learning/citi_bikes/202403-citibike-tripdata.csv.zip'\n",
    "\n",
    "# Directory to extract the files\n",
    "extracted_zip = 'C:/Users/dkorzel/OneDrive - Capgemini/Desktop/python/learning/citi_bikes/data'\n",
    "\n",
    "# List to hold DataFrames\n",
    "dfs = []\n",
    "\n",
    "# Open the zip file\n",
    "with zipfile.ZipFile(bike_zip, 'r') as zip_ref:\n",
    "    zip_ref.extractall(extracted_zip)\n",
    "\n",
    "# List all files in the extracted directory\n",
    "extracted_files = os.listdir(extracted_zip)\n",
    "\n",
    "# Filter only CSV files\n",
    "# csv_files = [file for file in extracted_files if file.endswith('.csv')]\n",
    "\n",
    "# Read each CSV file into a DataFrame and append to dfs list\n",
    "for file in extracted_files:\n",
    "    df = pd.read_csv(os.path.join(extracted_zip, file))\n",
    "    dfs.append(df)\n",
    "\n",
    "# Concatenate all DataFrames in the list\n",
    "union_df = pd.concat(dfs, ignore_index=True)\n",
    "\n",
    "print(union_df)"
   ]
  },
  {
   "cell_type": "code",
   "execution_count": null,
   "id": "51b3e5ca",
   "metadata": {},
   "outputs": [],
   "source": []
  }
 ],
 "metadata": {
  "kernelspec": {
   "display_name": "Python 3 (ipykernel)",
   "language": "python",
   "name": "python3"
  },
  "language_info": {
   "codemirror_mode": {
    "name": "ipython",
    "version": 3
   },
   "file_extension": ".py",
   "mimetype": "text/x-python",
   "name": "python",
   "nbconvert_exporter": "python",
   "pygments_lexer": "ipython3",
   "version": "3.11.3"
  }
 },
 "nbformat": 4,
 "nbformat_minor": 5
}
