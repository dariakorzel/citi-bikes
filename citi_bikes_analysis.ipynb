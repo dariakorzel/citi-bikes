{
 "cells": [
  {
   "cell_type": "code",
   "execution_count": null,
   "id": "e9a48c00",
   "metadata": {},
   "outputs": [],
   "source": [
    "import pandas as pd\n",
    "import numpy as np\n",
    "import zipfile\n",
    "import os\n",
    "\n",
    "from pathlib import Path\n",
    "\n",
    "import matplotlib.pyplot as plt"
   ]
  },
  {
   "cell_type": "code",
   "execution_count": null,
   "id": "62f74362",
   "metadata": {},
   "outputs": [],
   "source": [
    "current_directory = Path.cwd()\n",
    "\n",
    "data_directory = Path(current_directory, 'data')\n",
    "\n",
    "zip_file_path = Path(data_directory, '202403-citibike-tripdata.csv.zip')\n",
    "\n",
    "# Directory to extract the files\n",
    "data_directory = Path(current_directory, 'data')\n",
    "\n",
    "# List to hold DataFrames\n",
    "dfs = []\n",
    "\n",
    "# Open the zip file\n",
    "with zipfile.ZipFile(zip_file_path, 'r') as zip_ref:\n",
    "    zip_ref.extractall(data_directory)\n",
    "\n",
    "# List all files in the extracted directory\n",
    "extracted_files = os.listdir(data_directory)\n",
    "\n",
    "# Filter only CSV files\n",
    "csv_files = [file for file in extracted_files if file.endswith('.csv')]\n",
    "\n",
    "# Read each CSV file into a DataFrame and append to dfs list\n",
    "for file in csv_files:\n",
    "    df = pd.read_csv(Path(data_directory, file))\n",
    "    dfs.append(df)\n",
    "\n",
    "# Concatenate all DataFrames in the list\n",
    "biketrips = pd.concat(dfs, ignore_index=True)"
   ]
  },
  {
   "cell_type": "code",
   "execution_count": null,
   "id": "2a5c6fd9",
   "metadata": {},
   "outputs": [],
   "source": [
    "biketrips.info()"
   ]
  },
  {
   "cell_type": "code",
   "execution_count": null,
   "id": "98ea7e27",
   "metadata": {},
   "outputs": [],
   "source": [
    "# Trips over 30 minutes\n",
    "\n",
    "# Convert start & end to datetime objects\n",
    "biketrips['started_at'] = pd.to_datetime(biketrips['started_at'])\n",
    "biketrips['ended_at'] = pd.to_datetime(biketrips['ended_at'])\n",
    "\n",
    "# Calculate the time difference in minutes\n",
    "biketrips['time_difference'] = round((biketrips['ended_at'] - biketrips['started_at']).dt.total_seconds() / 60, 2)\n",
    "\n",
    "# Create a flag\n",
    "biketrips['trips_over_30_min'] = biketrips['time_difference'] > 30"
   ]
  },
  {
   "cell_type": "code",
   "execution_count": null,
   "id": "be5a9401",
   "metadata": {},
   "outputs": [],
   "source": [
    "trips_over_30_min = biketrips['trips_over_30_min'].sum()\n",
    "print(\"In March, \" + str(trips_over_30_min) + \" bike trips would be covered by insurance.\")"
   ]
  },
  {
   "cell_type": "code",
   "execution_count": null,
   "id": "b707d9b4",
   "metadata": {},
   "outputs": [],
   "source": [
    "revenue = trips_over_30_min * 0.2\n",
    "print(\"By charging 0.2 USD per trip exceeding 30 min, we anticipate revenue of \" + str(revenue) + \" USD.\")"
   ]
  }
 ],
 "metadata": {
  "kernelspec": {
   "display_name": "Python 3 (ipykernel)",
   "language": "python",
   "name": "python3"
  },
  "language_info": {
   "codemirror_mode": {
    "name": "ipython",
    "version": 3
   },
   "file_extension": ".py",
   "mimetype": "text/x-python",
   "name": "python",
   "nbconvert_exporter": "python",
   "pygments_lexer": "ipython3",
   "version": "3.11.3"
  }
 },
 "nbformat": 4,
 "nbformat_minor": 5
}
